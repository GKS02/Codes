{
 "cells": [
  {
   "cell_type": "code",
   "execution_count": 1,
   "metadata": {},
   "outputs": [
    {
     "name": "stdout",
     "output_type": "stream",
     "text": [
      "Collecting pyfpgrowthNote: you may need to restart the kernel to use updated packages.\n",
      "\n",
      "  Downloading pyfpgrowth-1.0.tar.gz (1.6 MB)\n",
      "Building wheels for collected packages: pyfpgrowth\n",
      "  Building wheel for pyfpgrowth (setup.py): started\n",
      "  Building wheel for pyfpgrowth (setup.py): finished with status 'done'\n",
      "  Created wheel for pyfpgrowth: filename=pyfpgrowth-1.0-py2.py3-none-any.whl size=5485 sha256=5ed89f28f7a339c99451e0ff4ea5ad06f8bb2396c2b06bc3731e52547e6ff27f\n",
      "  Stored in directory: c:\\users\\hp\\appdata\\local\\pip\\cache\\wheels\\29\\e2\\a7\\ccb34c35e2c6737d3f09b53784f4323b7ff556a5f02096c70d\n",
      "Successfully built pyfpgrowth\n",
      "Installing collected packages: pyfpgrowth\n",
      "Successfully installed pyfpgrowth-1.0\n"
     ]
    }
   ],
   "source": [
    "pip install pyfpgrowth"
   ]
  },
  {
   "cell_type": "code",
   "execution_count": 6,
   "metadata": {},
   "outputs": [],
   "source": [
    "import pandas as pd\n",
    "import numpy as np\n",
    "import matplotlib.pyplot as plt\n",
    "import pyfpgrowth"
   ]
  },
  {
   "cell_type": "code",
   "execution_count": 7,
   "metadata": {},
   "outputs": [],
   "source": [
    "dataset = pd.read_csv(\"Market_Basket_Optimisation.csv\",header=None)\n",
    "transactions = []\n",
    "for i in range(0,7501):\n",
    "    transactions.append([str(dataset.values[i,j]) for j in range(0,20)])"
   ]
  },
  {
   "cell_type": "code",
   "execution_count": 8,
   "metadata": {},
   "outputs": [],
   "source": [
    "for i in range(0,len(transactions)):\n",
    "   # print(i,len(transactions[i]))\n",
    "    transactions[i]=[x for x in transactions[i] if str(x) != 'nan']"
   ]
  },
  {
   "cell_type": "code",
   "execution_count": 24,
   "metadata": {},
   "outputs": [],
   "source": [
    "patterns = pyfpgrowth. find_frequent_patterns(transactions, 20)\n"
   ]
  },
  {
   "cell_type": "code",
   "execution_count": 25,
   "metadata": {},
   "outputs": [],
   "source": [
    "rules = pyfpgrowth. generate_association_rules(patterns,0.5)\n"
   ]
  },
  {
   "cell_type": "code",
   "execution_count": 26,
   "metadata": {},
   "outputs": [
    {
     "data": {
      "text/plain": [
       "{('chocolate', 'tomato sauce'): (('spaghetti',), 0.5526315789473685),\n",
       " ('light cream', 'spaghetti'): (('mineral water',), 0.6),\n",
       " ('rice', 'spaghetti'): (('mineral water',), 0.5263157894736842),\n",
       " ('french wine', 'milk'): (('mineral water',), 0.5675675675675675),\n",
       " ('cereals', 'ground beef'): (('spaghetti',), 0.6764705882352942),\n",
       " ('cereals', 'milk'): (('mineral water',), 0.5094339622641509),\n",
       " ('ground beef', 'pepper'): (('spaghetti',), 0.5102040816326531),\n",
       " ('ground beef', 'ham'): (('mineral water',), 0.5405405405405406),\n",
       " ('ground beef', 'red wine'): (('mineral water',), 0.5833333333333334),\n",
       " ('chocolate', 'red wine'): (('spaghetti',), 0.5675675675675675),\n",
       " ('chocolate', 'hot dogs'): (('mineral water',), 0.5121951219512195),\n",
       " ('salmon', 'spaghetti'): (('mineral water',), 0.504950495049505),\n",
       " ('chicken', 'fresh bread'): (('mineral water',), 0.5128205128205128),\n",
       " ('herb & pepper', 'olive oil'): (('spaghetti',), 0.5263157894736842),\n",
       " ('cake', 'soup'): (('mineral water',), 0.5217391304347826),\n",
       " ('frozen vegetables', 'milk', 'soup'): (('mineral water',),\n",
       "  0.7666666666666667),\n",
       " ('frozen vegetables', 'mineral water', 'soup'): (('milk',),\n",
       "  0.6052631578947368),\n",
       " ('milk', 'soup'): (('mineral water',), 0.5614035087719298),\n",
       " ('cooking oil', 'eggs', 'spaghetti'): (('mineral water',),\n",
       "  0.7096774193548387),\n",
       " ('tomatoes', 'whole wheat rice'): (('spaghetti',), 0.5111111111111111),\n",
       " ('pancakes', 'whole wheat rice'): (('mineral water',), 0.5961538461538461),\n",
       " ('olive oil', 'turkey'): (('spaghetti',), 0.5),\n",
       " ('milk', 'spaghetti', 'turkey'): (('mineral water',), 0.5555555555555556),\n",
       " ('cake', 'frozen smoothie'): (('mineral water',), 0.5),\n",
       " ('frozen smoothie', 'milk', 'mineral water'): (('spaghetti',),\n",
       "  0.5217391304347826),\n",
       " ('frozen smoothie', 'milk', 'spaghetti'): (('mineral water',),\n",
       "  0.5714285714285714),\n",
       " ('mineral water', 'olive oil', 'pancakes'): (('spaghetti',), 0.6),\n",
       " ('olive oil', 'pancakes', 'spaghetti'): (('mineral water',),\n",
       "  0.5526315789473685),\n",
       " ('chocolate', 'frozen vegetables', 'olive oil'): (('mineral water',), 0.7),\n",
       " ('frozen vegetables', 'milk', 'olive oil'): (('mineral water',),\n",
       "  0.6944444444444444),\n",
       " ('frozen vegetables', 'mineral water', 'olive oil'): (('milk',),\n",
       "  0.5102040816326531),\n",
       " ('eggs', 'milk', 'olive oil'): (('mineral water',), 0.7142857142857143),\n",
       " ('ground beef', 'olive oil', 'spaghetti'): (('mineral water',), 0.5),\n",
       " ('chocolate', 'olive oil', 'spaghetti'): (('mineral water',),\n",
       "  0.5471698113207547),\n",
       " ('ground beef', 'mineral water', 'tomatoes'): (('spaghetti',),\n",
       "  0.5609756097560976),\n",
       " ('ground beef', 'spaghetti', 'tomatoes'): (('mineral water',),\n",
       "  0.5476190476190477),\n",
       " ('milk', 'mineral water', 'tomatoes'): (('spaghetti',), 0.5102040816326531),\n",
       " ('milk', 'spaghetti', 'tomatoes'): (('mineral water',), 0.5681818181818182),\n",
       " ('frozen vegetables', 'mineral water', 'tomatoes'): (('spaghetti',),\n",
       "  0.5227272727272727),\n",
       " ('ground beef', 'mineral water', 'shrimp'): (('spaghetti',),\n",
       "  0.5789473684210527),\n",
       " ('frozen vegetables', 'milk', 'shrimp'): (('mineral water',), 0.6),\n",
       " ('chocolate', 'frozen vegetables', 'shrimp'): (('mineral water',), 0.6),\n",
       " ('frozen vegetables', 'shrimp', 'spaghetti'): (('mineral water',),\n",
       "  0.5555555555555556),\n",
       " ('milk', 'shrimp', 'spaghetti'): (('mineral water',), 0.6216216216216216),\n",
       " ('chocolate', 'milk', 'shrimp'): (('mineral water',), 0.5365853658536586),\n",
       " ('chocolate', 'shrimp', 'spaghetti'): (('mineral water',),\n",
       "  0.5416666666666666),\n",
       " ('burgers', 'chocolate', 'milk'): (('spaghetti',), 0.5365853658536586),\n",
       " ('chocolate', 'pancakes', 'spaghetti'): (('mineral water',),\n",
       "  0.5490196078431373),\n",
       " ('eggs', 'frozen vegetables', 'ground beef'): (('mineral water',),\n",
       "  0.6060606060606061),\n",
       " ('frozen vegetables', 'ground beef', 'spaghetti'): (('mineral water',),\n",
       "  0.5076923076923077),\n",
       " ('chocolate', 'eggs', 'frozen vegetables'): (('mineral water',),\n",
       "  0.5348837209302325),\n",
       " ('eggs', 'frozen vegetables', 'milk'): (('mineral water',),\n",
       "  0.509090909090909),\n",
       " ('chocolate', 'frozen vegetables', 'milk'): (('mineral water',), 0.5),\n",
       " ('frozen vegetables', 'milk', 'spaghetti'): (('mineral water',),\n",
       "  0.5483870967741935),\n",
       " ('french fries', 'ground beef', 'mineral water'): (('spaghetti',), 0.525),\n",
       " ('french fries', 'ground beef', 'spaghetti'): (('mineral water',), 0.5)}"
      ]
     },
     "execution_count": 26,
     "metadata": {},
     "output_type": "execute_result"
    }
   ],
   "source": [
    "rules"
   ]
  },
  {
   "cell_type": "code",
   "execution_count": null,
   "metadata": {},
   "outputs": [],
   "source": []
  }
 ],
 "metadata": {
  "kernelspec": {
   "display_name": "Python 3",
   "language": "python",
   "name": "python3"
  },
  "language_info": {
   "codemirror_mode": {
    "name": "ipython",
    "version": 3
   },
   "file_extension": ".py",
   "mimetype": "text/x-python",
   "name": "python",
   "nbconvert_exporter": "python",
   "pygments_lexer": "ipython3",
   "version": "3.8.5"
  }
 },
 "nbformat": 4,
 "nbformat_minor": 4
}
